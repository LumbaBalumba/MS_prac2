{
 "cells": [
  {
   "cell_type": "code",
   "execution_count": null,
   "metadata": {
    "collapsed": true
   },
   "outputs": [],
   "source": [
    "import numpy as np\n",
    "import matplotlib.pyplot as plt\n",
    "import math\n",
    "\n",
    "\n",
    "def gamma_density(x: np.array, theta: float) -> float:\n",
    "    return (x ** 0.5 * np.exp(-x / theta)) / (math.gamma(1.5) * theta ** 1.5)\n",
    "\n",
    "\n",
    "def param_plot(theta: float) -> None:\n",
    "    x = np.linspace(0, 15, 1000)\n",
    "    y = gamma_density(x, theta)\n",
    "    plt.plot(x, y, label='gamma density')\n",
    "\n",
    "\n",
    "def info(theta: float, a: float) -> float:\n",
    "    return a / theta ** 2\n",
    "\n",
    "\n",
    "def i_est(X: np.ndarray, a: float) -> float:\n",
    "    theta_est = np.mean(X) / a\n",
    "    return a / theta_est ** 2\n",
    "\n",
    "\n",
    "def main():\n",
    "    accuracy = []\n",
    "    params = np.linspace(0.7, 15, 50)\n",
    "    true_info = []\n",
    "    estimates = []\n",
    "    for theta in params:\n",
    "        n = 1500\n",
    "        a = 1.5\n",
    "        X = np.random.gamma(a, theta, n)\n",
    "        i = info(theta, a)\n",
    "        i_e = i_est(X, a)\n",
    "        true_info.append(i)\n",
    "        estimates.append(i_e)\n",
    "        print(i, i_e, abs(i - i_e) / i * 100)\n",
    "        accuracy.append(abs(i - i_e) / i * 100)\n",
    "    plt.plot(params, true_info, color='red', label=r'i($\\theta$)')\n",
    "    plt.plot(params, estimates, color='blue', label='estimates')\n",
    "    plt.legend()\n",
    "    plt.show()\n",
    "    print(100.0 - np.mean(accuracy))\n",
    "\n",
    "\n",
    "main()\n",
    "\n",
    "'''\n",
    "X = np.random.gamma(1.5, 1, 1500)\n",
    "plt.hist(X, density=True, bins=30, label='distribution')\n",
    "param_plot(1)\n",
    "plt.legend()\n",
    "plt.show()\n",
    "'''\n"
   ]
  }
 ],
 "metadata": {
  "kernelspec": {
   "display_name": "Python 3",
   "language": "python",
   "name": "python3"
  },
  "language_info": {
   "codemirror_mode": {
    "name": "ipython",
    "version": 2
   },
   "file_extension": ".py",
   "mimetype": "text/x-python",
   "name": "python",
   "nbconvert_exporter": "python",
   "pygments_lexer": "ipython2",
   "version": "2.7.6"
  }
 },
 "nbformat": 4,
 "nbformat_minor": 0
}
